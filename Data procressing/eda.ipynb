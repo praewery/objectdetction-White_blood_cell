{
 "cells": [
  {
   "cell_type": "code",
   "execution_count": 8,
   "metadata": {},
   "outputs": [],
   "source": [
    "import pandas as pd\n",
    "import numpy as np\n",
    "\n",
    "import os\n",
    "import os.path as op\n",
    "import glob\n",
    "\n",
    "from tqdm import tqdm"
   ]
  },
  {
   "cell_type": "markdown",
   "metadata": {},
   "source": [
    "### ***Get class weights -> dealing with class imbalance***"
   ]
  },
  {
   "cell_type": "code",
   "execution_count": 12,
   "metadata": {},
   "outputs": [
    {
     "name": "stderr",
     "output_type": "stream",
     "text": [
      "100%|██████████| 3376/3376 [00:00<00:00, 16880.14it/s]"
     ]
    },
    {
     "name": "stdout",
     "output_type": "stream",
     "text": [
      "data/labels\\11_00010_jpg.rf.a30abb705f83988f76b56a4de7b1f0d2.txt is empty\n",
      "data/labels\\11_00019_jpg.rf.961355377b242750a329be3ca09a305b.txt is empty\n",
      "data/labels\\11_00020_jpg.rf.69351ea3651468a653550b7846757e07.txt is empty\n",
      "data/labels\\11_00056_jpg.rf.17de5d0e670cf535ba1ead5b36b5a2ec.txt is empty\n",
      "data/labels\\11_00178_jpg.rf.ca65e121957b2acd5830abc74fd03ab2.txt is empty\n",
      "data/labels\\11_00196_jpg.rf.c138e0f11cb329004d3400f115af4174.txt is empty\n",
      "data/labels\\1_00211_jpg.rf.2c6ddc11f3787b8bba3f145619d42d22.txt is empty\n",
      "data/labels\\1_00212_jpg.rf.17b0e4f0c2053fb54f0bd588701bd495.txt is empty\n",
      "data/labels\\1_00293_jpg.rf.11017550cf71cec929cd73546b4874c0.txt is empty\n",
      "data/labels\\2_00005_jpg.rf.7828bd4c7a3a8f20c5474562544dae18.txt is empty\n",
      "data/labels\\2_00012_jpg.rf.83e8102e7965d062484bd539587d5961.txt is empty\n",
      "data/labels\\2_00017_jpg.rf.a1b1e8ecde70672bf3ccea4610ee7810.txt is empty\n",
      "data/labels\\2_00023_jpg.rf.ffdae25543f489b314b0190b9f5d9dba.txt is empty\n",
      "data/labels\\3_00091_jpg.rf.c7bf3bb014a54b633b264053e99a9b9b.txt is empty\n",
      "data/labels\\3_00256_jpg.rf.695feb84af558421f94fca4238a3f3ab.txt is empty\n",
      "data/labels\\3_00289_jpg.rf.7e63f2568809d513db9df9114013c6fd.txt is empty\n",
      "data/labels\\6_00056_jpg.rf.c2811d06af862e8bbf0d73ed61b8eb1b.txt is empty\n",
      "data/labels\\6_00146_jpg.rf.010d1c39287c1b78b0db3bd54e702a16.txt is empty\n",
      "data/labels\\6_00180_jpg.rf.24b16b3219b1fe5d99b762286dd32e40.txt is empty\n",
      "data/labels\\6_00226_jpg.rf.12744b2012d7178068521ca8e92439c0.txt is empty\n",
      "data/labels\\7_00011_jpg.rf.a7bbbf1885f741c17bc0467940e8d06f.txt is empty\n",
      "data/labels\\7_00101_jpg.rf.3f0f66beae3ea95e3339fa0575b17fe9.txt is empty\n",
      "data/labels\\7_00190_jpg.rf.6b39f01af27e0d89bbce4bff5c45641a.txt is empty\n",
      "data/labels\\7_00249_jpg.rf.f223a2d88410538115ba901aac30ef98.txt is empty\n",
      "data/labels\\8_00269_jpg.rf.301fea33c2f9c64732f2d0bd329e9093.txt is empty\n",
      "data/labels\\8_00274_jpg.rf.3959c7ad65ff3fea1474530fa2a37d47.txt is empty\n",
      "data/labels\\9_00168_jpg.rf.9ba6644fd7378d850c29c876704acefa.txt is empty\n",
      "data/labels\\9_00237_jpg.rf.67292421868ad983afd958905fe5c4b1.txt is empty\n",
      "data/labels\\9_00270_jpg.rf.f0f853da4398e1b4a23bae5c2b63ce91.txt is empty\n"
     ]
    },
    {
     "name": "stderr",
     "output_type": "stream",
     "text": [
      "\n"
     ]
    },
    {
     "data": {
      "text/plain": [
       "{'2': 316,\n",
       " '0': 322,\n",
       " '9': 313,\n",
       " '11': 327,\n",
       " '3': 646,\n",
       " '10': 122,\n",
       " '8': 337,\n",
       " '5': 310,\n",
       " '1': 355,\n",
       " '6': 308,\n",
       " '7': 306,\n",
       " '4': 298}"
      ]
     },
     "execution_count": 12,
     "metadata": {},
     "output_type": "execute_result"
    }
   ],
   "source": [
    "## read throught files in label folder of data\n",
    "\n",
    "root_dir = \"data/labels\"\n",
    "\n",
    "count_dict = {}\n",
    "file_path_list = []\n",
    "label_list = []\n",
    "\n",
    "for file in tqdm(glob.glob(\"data/labels/*.txt\")):\n",
    "    with open(file, \"r\") as f:\n",
    "\n",
    "        texts = f.read()\n",
    "\n",
    "        split_lines = texts.split(\"\\n\")\n",
    "\n",
    "        try:\n",
    "            for line in split_lines:\n",
    "                file_path_list.append(file)\n",
    "                label_list.append(int(line.split()[0]))\n",
    "\n",
    "                if line.split()[0] in count_dict.keys():\n",
    "                    count_dict[line.split()[0]] += 1\n",
    "                \n",
    "                else:\n",
    "                    count_dict[line.split()[0]] = 1\n",
    "        except IndexError:\n",
    "            print(f\"{file} is empty\")\n",
    "            file_path_list.append(file)\n",
    "            label_list.append(np.nan)\n",
    "            continue\n",
    "\n",
    "\n",
    "count_dict            \n"
   ]
  },
  {
   "cell_type": "code",
   "execution_count": 18,
   "metadata": {},
   "outputs": [
    {
     "data": {
      "text/plain": [
       "True"
      ]
     },
     "execution_count": 18,
     "metadata": {},
     "output_type": "execute_result"
    }
   ],
   "source": [
    "len(label_list) == sum([v for k,v in count_dict.items()]) + 29"
   ]
  },
  {
   "cell_type": "code",
   "execution_count": 20,
   "metadata": {},
   "outputs": [
    {
     "data": {
      "text/plain": [
       "4018"
      ]
     },
     "execution_count": 20,
     "metadata": {},
     "output_type": "execute_result"
    }
   ],
   "source": [
    "len(file_path_list)"
   ]
  },
  {
   "cell_type": "code",
   "execution_count": 23,
   "metadata": {},
   "outputs": [
    {
     "data": {
      "text/plain": [
       "{'2': 1.0443037974683544,\n",
       " '0': 1.0248447204968942,\n",
       " '9': 1.0543130990415335,\n",
       " '11': 1.0091743119266054,\n",
       " '3': 0.5108359133126935,\n",
       " '10': 2.7049180327868854,\n",
       " '8': 0.9792284866468843,\n",
       " '5': 1.064516129032258,\n",
       " '1': 0.9295774647887325,\n",
       " '6': 1.0714285714285714,\n",
       " '7': 1.0784313725490196,\n",
       " '4': 1.1073825503355705}"
      ]
     },
     "execution_count": 23,
     "metadata": {},
     "output_type": "execute_result"
    }
   ],
   "source": [
    "total_labels = sum([v for k,v in count_dict.items()])\n",
    "\n",
    "weight_dict = count_dict\n",
    "for keys, values in count_dict.items():\n",
    "    weight_dict[keys] = (1 / values) * (total_labels / 12)\n",
    "\n",
    "\n",
    "weight_dict"
   ]
  },
  {
   "cell_type": "markdown",
   "metadata": {},
   "source": [
    "### ***Get dataframe for upsampling and downsampling***"
   ]
  },
  {
   "cell_type": "code",
   "execution_count": 35,
   "metadata": {},
   "outputs": [
    {
     "name": "stderr",
     "output_type": "stream",
     "text": [
      "100%|██████████| 3376/3376 [00:00<00:00, 17583.54it/s]\n"
     ]
    }
   ],
   "source": [
    "path_list = []\n",
    "label_list = []\n",
    "for file in tqdm(glob.glob(\"data/labels/*.txt\")):\n",
    "    with open(file, \"r\") as f:\n",
    "\n",
    "        texts = f.read()\n",
    "\n",
    "    if texts == \"\":\n",
    "        path_list.append(file)\n",
    "        label_list.append(-1)\n",
    "\n",
    "    else:\n",
    "        split_lines = texts.split(\"\\n\")\n",
    "        for line in split_lines:\n",
    "            path_list.append(file)\n",
    "            label_list.append(int(line.split()[0]))\n",
    "\n",
    "\n",
    "\n",
    "    assert len(path_list)==len(label_list)"
   ]
  },
  {
   "cell_type": "code",
   "execution_count": null,
   "metadata": {},
   "outputs": [],
   "source": [
    "#shutil"
   ]
  },
  {
   "cell_type": "code",
   "execution_count": 36,
   "metadata": {},
   "outputs": [],
   "source": [
    "df = pd.DataFrame({\"path\" : path_list,\"label\" : label_list})"
   ]
  },
  {
   "cell_type": "code",
   "execution_count": 44,
   "metadata": {},
   "outputs": [],
   "source": [
    "file_expect = df[df[\"label\"] == 10][\"path\"].unique()"
   ]
  },
  {
   "cell_type": "code",
   "execution_count": 46,
   "metadata": {},
   "outputs": [
    {
     "name": "stdout",
     "output_type": "stream",
     "text": [
      "                                                   path  label\n",
      "1606  data/labels\\2_00001_jpg.rf.3c9a75c63ff12dc6793...     10\n",
      "                                                   path  label\n",
      "1607  data/labels\\2_00002_jpg.rf.c45afbba355e65be97a...     10\n",
      "                                                   path  label\n",
      "1608  data/labels\\2_00004_jpg.rf.75feb7903387376fe2b...     10\n",
      "                                                   path  label\n",
      "1610  data/labels\\2_00006_jpg.rf.024ab883b5fd6499099...     10\n",
      "                                                   path  label\n",
      "1611  data/labels\\2_00007_jpg.rf.f1e77a0d6db4ba1e836...     10\n",
      "                                                   path  label\n",
      "1612  data/labels\\2_00008_jpg.rf.76ebac4927babcdbe7d...     10\n",
      "                                                   path  label\n",
      "1613  data/labels\\2_00009_jpg.rf.fe0f724b18ef70c6581...     10\n",
      "                                                   path  label\n",
      "1614  data/labels\\2_00010_jpg.rf.c99783d79dc6585cce1...     10\n",
      "                                                   path  label\n",
      "1615  data/labels\\2_00011_jpg.rf.2f68dd74a9a0cf8ac2a...     10\n",
      "                                                   path  label\n",
      "1617  data/labels\\2_00013_jpg.rf.2ada219c604f5d69baf...     10\n",
      "                                                   path  label\n",
      "1618  data/labels\\2_00014_jpg.rf.5879a64d01b07c53a46...     10\n",
      "                                                   path  label\n",
      "1619  data/labels\\2_00015_jpg.rf.9d23e5d5a8f6f8f5872...     10\n",
      "                                                   path  label\n",
      "1620  data/labels\\2_00016_jpg.rf.9cc76551e0343f2eb25...     10\n",
      "1621  data/labels\\2_00016_jpg.rf.9cc76551e0343f2eb25...     11\n",
      "                                                   path  label\n",
      "1623  data/labels\\2_00018_jpg.rf.842b01ccf13ed0dbb42...     10\n",
      "                                                   path  label\n",
      "1624  data/labels\\2_00019_jpg.rf.5245990377719e7cb4e...     10\n",
      "                                                   path  label\n",
      "1627  data/labels\\2_00022_jpg.rf.113d26ab0edf2d06aa4...     10\n",
      "                                                   path  label\n",
      "1629  data/labels\\2_00024_jpg.rf.59983dd833af9d8b329...     10\n",
      "1630  data/labels\\2_00024_jpg.rf.59983dd833af9d8b329...      9\n",
      "                                                   path  label\n",
      "1631  data/labels\\2_00025_jpg.rf.9989bfa7921d265e63c...     10\n",
      "                                                   path  label\n",
      "1632  data/labels\\2_00026_jpg.rf.b6090eaaa868d620659...     10\n",
      "                                                   path  label\n",
      "1633  data/labels\\2_00028_jpg.rf.301f371ce625ce78e99...      5\n",
      "1634  data/labels\\2_00028_jpg.rf.301f371ce625ce78e99...     10\n",
      "                                                   path  label\n",
      "1635  data/labels\\2_00029_jpg.rf.9f92c25a4b4b930f91e...     10\n",
      "                                                   path  label\n",
      "1637  data/labels\\2_00032_jpg.rf.bae083cff427da80a0f...     10\n",
      "                                                   path  label\n",
      "1638  data/labels\\2_00033_jpg.rf.daa2ca31dc74b1b9a43...     10\n",
      "                                                   path  label\n",
      "1639  data/labels\\2_00034_jpg.rf.9b58800fdc5b5a2bd89...     10\n",
      "                                                   path  label\n",
      "1640  data/labels\\2_00036_jpg.rf.45f4e07f34b2120fc66...     10\n",
      "                                                   path  label\n",
      "1641  data/labels\\2_00037_jpg.rf.459a1efefd0de23e8ef...     10\n",
      "                                                   path  label\n",
      "1644  data/labels\\2_00040_jpg.rf.c5a6b5268dab50acd50...     10\n",
      "1645  data/labels\\2_00040_jpg.rf.c5a6b5268dab50acd50...     10\n",
      "                                                   path  label\n",
      "1646  data/labels\\2_00041_jpg.rf.403808fc7e8748d9301...     10\n",
      "                                                   path  label\n",
      "1647  data/labels\\2_00042_jpg.rf.5c2773db7bc6c0533f2...     10\n",
      "                                                   path  label\n",
      "1648  data/labels\\2_00043_jpg.rf.d3b722d859725e99be8...     10\n",
      "                                                   path  label\n",
      "1649  data/labels\\2_00044_jpg.rf.b385cd5a4bec38722db...     10\n",
      "                                                   path  label\n",
      "1650  data/labels\\2_00045_jpg.rf.1d501952663c7a4bb25...     10\n",
      "                                                   path  label\n",
      "1651  data/labels\\2_00046_jpg.rf.06f706656e17e1a68a2...     10\n",
      "1652  data/labels\\2_00046_jpg.rf.06f706656e17e1a68a2...     10\n",
      "                                                   path  label\n",
      "1653  data/labels\\2_00047_jpg.rf.dd875c71d1f4019a6da...     10\n",
      "1654  data/labels\\2_00047_jpg.rf.dd875c71d1f4019a6da...     10\n",
      "                                                   path  label\n",
      "1655  data/labels\\2_00048_jpg.rf.1ac52da613916903a2f...     10\n",
      "                                                   path  label\n",
      "1656  data/labels\\2_00049_jpg.rf.4746df69ceaf603d224...     10\n",
      "                                                   path  label\n",
      "1657  data/labels\\2_00050_jpg.rf.96efa4dbe04a13480ec...     10\n",
      "                                                   path  label\n",
      "1658  data/labels\\2_00051_jpg.rf.a72d1a76bddc13512d4...     10\n",
      "1659  data/labels\\2_00051_jpg.rf.a72d1a76bddc13512d4...     10\n",
      "                                                   path  label\n",
      "1660  data/labels\\2_00052_jpg.rf.64f36c65c8acb370ad8...     10\n",
      "                                                   path  label\n",
      "1661  data/labels\\2_00053_jpg.rf.efa813b5c95226d5349...     10\n",
      "1662  data/labels\\2_00053_jpg.rf.efa813b5c95226d5349...     10\n",
      "1663  data/labels\\2_00053_jpg.rf.efa813b5c95226d5349...     10\n",
      "                                                   path  label\n",
      "1664  data/labels\\2_00054_jpg.rf.0a8217d9e06ad49bbfb...     10\n",
      "                                                   path  label\n",
      "1665  data/labels\\2_00055_jpg.rf.12ef4e8325796d5f87f...     10\n",
      "1666  data/labels\\2_00055_jpg.rf.12ef4e8325796d5f87f...     10\n",
      "                                                   path  label\n",
      "1667  data/labels\\2_00056_jpg.rf.2f4edb33616d746c99f...     10\n",
      "                                                   path  label\n",
      "1668  data/labels\\2_00057_jpg.rf.304c93db43b614f37d6...     10\n",
      "                                                   path  label\n",
      "1669  data/labels\\2_00058_jpg.rf.2a74e887b83408b6d90...     10\n",
      "1670  data/labels\\2_00058_jpg.rf.2a74e887b83408b6d90...     10\n",
      "                                                   path  label\n",
      "1671  data/labels\\2_00059_jpg.rf.3cfbb438525aa77286d...     10\n",
      "                                                   path  label\n",
      "1672  data/labels\\2_00060_jpg.rf.b9977fbf2dab84ede4b...      1\n",
      "1673  data/labels\\2_00060_jpg.rf.b9977fbf2dab84ede4b...     10\n",
      "1674  data/labels\\2_00060_jpg.rf.b9977fbf2dab84ede4b...     10\n",
      "                                                   path  label\n",
      "1675  data/labels\\2_00061_jpg.rf.88112fe3dc8255f5cc3...     10\n",
      "                                                   path  label\n",
      "1676  data/labels\\2_00062_jpg.rf.03f562313f8df6d289d...     10\n",
      "                                                   path  label\n",
      "1677  data/labels\\2_00063_jpg.rf.ecaf7e00828d6b19f11...     10\n",
      "                                                   path  label\n",
      "1678  data/labels\\2_00064_jpg.rf.8a3fde06c81f44768e1...     10\n",
      "                                                   path  label\n",
      "1679  data/labels\\2_00065_jpg.rf.616f08a6db6c756de26...     10\n",
      "                                                   path  label\n",
      "1680  data/labels\\2_00066_jpg.rf.c10672de20b9a54a7b0...     10\n",
      "                                                   path  label\n",
      "1681  data/labels\\2_00067_jpg.rf.b96ac37be959223bbc0...     10\n",
      "                                                   path  label\n",
      "1682  data/labels\\2_00068_jpg.rf.61bf5f9d9c9ef4523c4...     10\n",
      "                                                   path  label\n",
      "1683  data/labels\\2_00069_jpg.rf.7cc5885333dfd975dfc...     10\n",
      "                                                   path  label\n",
      "1684  data/labels\\2_00070_jpg.rf.1ea4de33703b119c69a...     10\n",
      "                                                   path  label\n",
      "1685  data/labels\\2_00071_jpg.rf.1a4b90824dee461ad23...     10\n",
      "                                                   path  label\n",
      "1686  data/labels\\2_00072_jpg.rf.d3e2116f9bf451f9d95...     10\n",
      "1687  data/labels\\2_00072_jpg.rf.d3e2116f9bf451f9d95...     10\n",
      "                                                   path  label\n",
      "1688  data/labels\\2_00073_jpg.rf.2935f1c4fce156048a3...     10\n",
      "                                                   path  label\n",
      "1689  data/labels\\2_00074_jpg.rf.8f5c448f8741afdc676...     10\n",
      "1690  data/labels\\2_00074_jpg.rf.8f5c448f8741afdc676...     10\n",
      "1691  data/labels\\2_00074_jpg.rf.8f5c448f8741afdc676...     10\n",
      "1692  data/labels\\2_00074_jpg.rf.8f5c448f8741afdc676...     10\n",
      "1693  data/labels\\2_00074_jpg.rf.8f5c448f8741afdc676...     10\n",
      "                                                   path  label\n",
      "1694  data/labels\\2_00075_jpg.rf.6d537643974bc706ebd...     10\n",
      "                                                   path  label\n",
      "1695  data/labels\\2_00076_jpg.rf.a467b0928be69f309c0...     10\n",
      "1696  data/labels\\2_00076_jpg.rf.a467b0928be69f309c0...     10\n",
      "                                                   path  label\n",
      "1697  data/labels\\2_00077_jpg.rf.4ab4f31ea42db0f4aad...     10\n",
      "1698  data/labels\\2_00077_jpg.rf.4ab4f31ea42db0f4aad...     10\n",
      "                                                   path  label\n",
      "1699  data/labels\\2_00078_jpg.rf.f5d0c353db623ed1a42...     10\n",
      "1700  data/labels\\2_00078_jpg.rf.f5d0c353db623ed1a42...     10\n",
      "                                                   path  label\n",
      "1701  data/labels\\2_00079_jpg.rf.7a0b097ea551ce863f8...     10\n",
      "                                                   path  label\n",
      "1702  data/labels\\2_00080_jpg.rf.fa1c87542b4cbf9f129...     10\n",
      "                                                   path  label\n",
      "1703  data/labels\\2_00081_jpg.rf.7091693ff1066ca9300...     10\n",
      "1704  data/labels\\2_00081_jpg.rf.7091693ff1066ca9300...     10\n",
      "                                                   path  label\n",
      "1705  data/labels\\2_00082_jpg.rf.cc98b617cefd9b6c46d...     10\n",
      "                                                   path  label\n",
      "1706  data/labels\\2_00083_jpg.rf.9e4a1cd29daeff5cda2...     10\n",
      "1707  data/labels\\2_00083_jpg.rf.9e4a1cd29daeff5cda2...     10\n",
      "                                                   path  label\n",
      "1708  data/labels\\2_00084_jpg.rf.55f81d257e785946f70...     10\n",
      "                                                   path  label\n",
      "1709  data/labels\\2_00085_jpg.rf.67facf2f61294a9c85e...     10\n",
      "1710  data/labels\\2_00085_jpg.rf.67facf2f61294a9c85e...     10\n",
      "                                                   path  label\n",
      "1711  data/labels\\2_00086_jpg.rf.9c3e59080fd5a2c71f3...     10\n",
      "                                                   path  label\n",
      "1712  data/labels\\2_00087_jpg.rf.05c8c7ba9469d8d126b...     10\n",
      "                                                   path  label\n",
      "1713  data/labels\\2_00088_jpg.rf.04dad4981005133e3d7...     10\n",
      "                                                   path  label\n",
      "1714  data/labels\\2_00089_jpg.rf.b7b27c548bfe12023ab...     10\n",
      "1715  data/labels\\2_00089_jpg.rf.b7b27c548bfe12023ab...     10\n",
      "1716  data/labels\\2_00089_jpg.rf.b7b27c548bfe12023ab...     10\n",
      "                                                   path  label\n",
      "1717  data/labels\\2_00090_jpg.rf.eaa930bee8153e919df...     10\n",
      "                                                   path  label\n",
      "1718  data/labels\\2_00091_jpg.rf.b15c7264021379908d3...     10\n",
      "                                                   path  label\n",
      "1719  data/labels\\2_00092_jpg.rf.1e596512b19fafcd549...     10\n",
      "                                                   path  label\n",
      "1720  data/labels\\2_00093_jpg.rf.d029488daea6280f9f5...     10\n",
      "                                                   path  label\n",
      "1721  data/labels\\2_00094_jpg.rf.53142a278e7e54ce580...     10\n",
      "                                                   path  label\n",
      "1722  data/labels\\2_00095_jpg.rf.bacc35e322c96e93617...     10\n",
      "                                                   path  label\n",
      "1723  data/labels\\2_00096_jpg.rf.0c4a41ce65409e5d349...     10\n",
      "                                                   path  label\n",
      "1724  data/labels\\2_00097_jpg.rf.78bcdbfa54037fd3ec0...     10\n",
      "                                                   path  label\n",
      "1725  data/labels\\2_00098_jpg.rf.803902949cbc8389a25...     10\n",
      "                                                   path  label\n",
      "1726  data/labels\\2_00099_jpg.rf.4e55622dff970d1f8ed...     10\n",
      "                                                   path  label\n",
      "1727  data/labels\\2_00100_jpg.rf.8732087c82101e2032c...     10\n",
      "                                                   path  label\n",
      "1728  data/labels\\2_00101_jpg.rf.f80899aeb7bbe982816...     10\n",
      "                                                   path  label\n",
      "1729  data/labels\\2_00102_jpg.rf.0fc07a81c0173a0a35b...     10\n",
      "                                                   path  label\n",
      "1730  data/labels\\2_00103_jpg.rf.bb4ccecb9a2001e56d7...     10\n",
      "                                                   path  label\n",
      "1731  data/labels\\2_00104_jpg.rf.5090ac058237330a824...     10\n",
      "                                                   path  label\n",
      "1732  data/labels\\2_00105_jpg.rf.a06c998f0c631da654a...     10\n",
      "                                                   path  label\n",
      "1733  data/labels\\2_00106_jpg.rf.d42413757739a26c8c0...     10\n",
      "                                                   path  label\n",
      "1734  data/labels\\2_00107_jpg.rf.209e1b74188cfd1ab8c...     10\n",
      "                                                   path  label\n",
      "1735  data/labels\\2_00108_jpg.rf.da3bb93266e0e90d481...     10\n",
      "                                                   path  label\n",
      "1736  data/labels\\2_00109_jpg.rf.6b7d46129f232bd14b8...     10\n",
      "                                                   path  label\n",
      "1737  data/labels\\2_00110_jpg.rf.0fcb78f4481c31580b8...     10\n",
      "                                                   path  label\n",
      "1948  data/labels\\3_00179_jpg.rf.4289fb5a69c242c92e8...     10\n",
      "1949  data/labels\\3_00179_jpg.rf.4289fb5a69c242c92e8...     10\n",
      "                                                   path  label\n",
      "1977  data/labels\\3_00206_jpg.rf.9acc1f25d1103d14c00...     10\n"
     ]
    }
   ],
   "source": [
    "for filename in file_expect:\n",
    "    unique = df.loc[df[\"path\"] == filename]\n",
    "    print(unique)"
   ]
  }
 ],
 "metadata": {
  "interpreter": {
   "hash": "14958d3aee5f1cad06795f787e54b96185c25fb40dfec723a5be941f3a531b8c"
  },
  "kernelspec": {
   "display_name": "Python 3.9.9 64-bit",
   "language": "python",
   "name": "python3"
  },
  "language_info": {
   "codemirror_mode": {
    "name": "ipython",
    "version": 3
   },
   "file_extension": ".py",
   "mimetype": "text/x-python",
   "name": "python",
   "nbconvert_exporter": "python",
   "pygments_lexer": "ipython3",
   "version": "3.9.9"
  },
  "orig_nbformat": 4
 },
 "nbformat": 4,
 "nbformat_minor": 2
}
